{
 "cells": [
  {
   "cell_type": "code",
   "execution_count": null,
   "metadata": {},
   "outputs": [],
   "source": [
    "%matplotlib nbagg\n",
    "%matplotlib inline\n",
    "\n",
    "import warnings\n",
    "import pandas as pd\n",
    "import numpy as np\n",
    "import scipy as sp\n",
    "import matplotlib.pyplot as plt\n",
    "import ipywidgets as widgets\n",
    "import datetime \n",
    "from mpl_toolkits.mplot3d import Axes3D\n",
    "from numpy.linalg import pinv\n",
    "from scipy.stats import multivariate_normal\n",
    "from mpl_toolkits import mplot3d\n",
    "from pylab import rcParams\n",
    "import seaborn as sns; sns.set()"
   ]
  },
  {
   "cell_type": "code",
   "execution_count": null,
   "metadata": {},
   "outputs": [],
   "source": [
    "pd.set_option('display.max_rows', None)\n",
    "df = pd.read_excel ('Desktop/yard.xlsx')"
   ]
  },
  {
   "cell_type": "code",
   "execution_count": null,
   "metadata": {},
   "outputs": [],
   "source": [
    "df"
   ]
  },
  {
   "cell_type": "code",
   "execution_count": null,
   "metadata": {},
   "outputs": [],
   "source": [
    "df['Time'] = pd.to_timedelta(df['Time'].astype(str))"
   ]
  },
  {
   "cell_type": "code",
   "execution_count": null,
   "metadata": {},
   "outputs": [],
   "source": [
    "df.dtypes"
   ]
  },
  {
   "cell_type": "code",
   "execution_count": null,
   "metadata": {},
   "outputs": [],
   "source": [
    " new_df = df.drop(['Type of courtyard', 'PPD  (%)'], axis=1)"
   ]
  },
  {
   "cell_type": "code",
   "execution_count": null,
   "metadata": {},
   "outputs": [],
   "source": [
    "new_df"
   ]
  },
  {
   "cell_type": "code",
   "execution_count": null,
   "metadata": {},
   "outputs": [],
   "source": [
    "new_df1 = new_df.set_index('Time')\n",
    "new_df1"
   ]
  },
  {
   "cell_type": "markdown",
   "metadata": {},
   "source": [
    "# Data Visualization\n",
    "Data visualization is the practice of translating information into a visual context, such as a map or graph, to make data easier for the human brain to understand and pull insights from. The main goal of data visualization is to make it easier to identify patterns, trends and outliers in large data sets."
   ]
  },
  {
   "cell_type": "code",
   "execution_count": null,
   "metadata": {},
   "outputs": [],
   "source": [
    "plt.subplots(figsize=(10, 6))\n",
    "import seaborn as sns\n",
    "df_corr = new_df1.corr()\n",
    "ax = sns.heatmap(df_corr, annot=True, cmap=\"coolwarm\", fmt='.2f', linewidths=.05 ) #notation: \"annot\" not \"annote\"\n",
    "bottom, top = ax.get_ylim()\n",
    "ax.set_ylim(bottom + 0.5, top - 0.5)\n",
    "plt.suptitle('General: Heatmap of Correlation Matrix', fontsize=13)"
   ]
  },
  {
   "cell_type": "code",
   "execution_count": null,
   "metadata": {
    "scrolled": true
   },
   "outputs": [],
   "source": [
    "new_df1.hist(bins=15, color='steelblue', edgecolor='black', linewidth=1.0,\n",
    "           xlabelsize=8, ylabelsize=8, grid=False)    \n",
    "plt.tight_layout(rect=(0, 0, 2.02, 2.02))"
   ]
  },
  {
   "cell_type": "code",
   "execution_count": null,
   "metadata": {},
   "outputs": [],
   "source": [
    "cols = ['PMV','Wind speed  (m/s)','Air temperature  (°C)','Mean Radiant Temperature  (°C)','Relative Humidity  (%)']\n",
    "\n",
    "pp = sns.pairplot(new_df1[cols], size=1.8, aspect=1.9,\n",
    "                  plot_kws=dict(edgecolor=\"k\", linewidth=0.5),\n",
    "                  diag_kind=\"kde\", diag_kws=dict(shade=True))\n",
    "\n",
    "fig = pp.fig \n",
    "fig.subplots_adjust(top=0.93, wspace=0.3)\n",
    "t = fig.suptitle('General Attributes Pairwise Plots', fontsize=14)"
   ]
  },
  {
   "cell_type": "code",
   "execution_count": null,
   "metadata": {},
   "outputs": [],
   "source": [
    "new_df1.describe()"
   ]
  },
  {
   "cell_type": "code",
   "execution_count": null,
   "metadata": {},
   "outputs": [],
   "source": [
    "fig = plt.figure(figsize=(15, 10))\n",
    "ax = fig.gca()\n",
    "new_df1.boxplot()\n",
    "ax.set_title('Box plots of features')\n",
    "ax.set_xlabel('Features')\n",
    "ax.set_ylabel('Frequency')"
   ]
  },
  {
   "cell_type": "code",
   "execution_count": null,
   "metadata": {},
   "outputs": [],
   "source": [
    "%matplotlib inline\n",
    "np.random.seed(8)\n",
    "warnings.filterwarnings(\"ignore\")\n",
    "rcParams['figure.figsize'] = 20,10\n",
    "rcParams['font.size'] = 30\n",
    "sns.set()"
   ]
  },
  {
   "cell_type": "code",
   "execution_count": null,
   "metadata": {},
   "outputs": [],
   "source": [
    "def plot_distribution(inp):\n",
    "    plt.figure()\n",
    "    ax = sns.distplot(inp)\n",
    "    plt.axvline(np.mean(inp), color = \"k\", linestyle = \"dashed\", linewidth = 5)\n",
    "    _, max_ = plt.ylim()\n",
    "    plt.text(\n",
    "        inp.mean() + inp.mean()/10,\n",
    "        max_ - max_ / 10,\n",
    "        \"Mean: {:.2f}\".format(inp.mean()),\n",
    "    )\n",
    "    return plt.figure"
   ]
  },
  {
   "cell_type": "code",
   "execution_count": null,
   "metadata": {},
   "outputs": [],
   "source": [
    "rcParams['figure.figsize'] = 20,10\n",
    "rcParams['font.size'] = 30\n",
    "plot_distribution(new_df1['Relative Humidity  (%)'])"
   ]
  },
  {
   "cell_type": "code",
   "execution_count": null,
   "metadata": {},
   "outputs": [],
   "source": [
    "plot_distribution(new_df1['Mean Radiant Temperature  (°C)'])"
   ]
  },
  {
   "cell_type": "code",
   "execution_count": null,
   "metadata": {},
   "outputs": [],
   "source": [
    "plt.figure()\n",
    "ax1 = sns.distplot(new_df1['Relative Humidity  (%)'])\n",
    "ax2 = sns.distplot(new_df1['Mean Radiant Temperature  (°C)'])\n",
    "plt.axvline(np.mean(new_df1['Relative Humidity  (%)']), color = 'b', linestyle = 'dashed', linewidth = 5)\n",
    "plt.axvline(np.mean(new_df1['Mean Radiant Temperature  (°C)']), color = 'orange', linestyle = 'dashed', linewidth = 5)"
   ]
  },
  {
   "cell_type": "code",
   "execution_count": null,
   "metadata": {
    "scrolled": true
   },
   "outputs": [],
   "source": [
    "fig = plt.figure(figsize=(10, 10))\n",
    "ax = fig.gca()\n",
    "new_df1[['PMV','Wind speed  (m/s)','Air temperature  (°C)','Mean Radiant Temperature  (°C)','Relative Humidity  (%)']].plot.hist(ax = ax)\n",
    "ax.set_title('Histogram of Features')\n",
    "ax.set_xlabel('Features')\n",
    "ax.set_ylabel('Frequency')"
   ]
  },
  {
   "cell_type": "code",
   "execution_count": null,
   "metadata": {
    "scrolled": true
   },
   "outputs": [],
   "source": [
    "sns.pairplot(new_df1, x_vars = ['Wind speed  (m/s)','Air temperature  (°C)',\n",
    "                             'Mean Radiant Temperature  (°C)','Relative Humidity  (%)'], \n",
    "                              y_vars = 'PMV', size = 5, aspect = 0.7, kind = 'reg')"
   ]
  },
  {
   "cell_type": "code",
   "execution_count": null,
   "metadata": {
    "scrolled": true
   },
   "outputs": [],
   "source": [
    "fig, axes = plt.subplots(5, 1,figsize=(8, 22))\n",
    "sns.regplot(x='Relative Humidity  (%)', y='Wind speed  (m/s)', data=new_df1, ax=axes[0])\n",
    "sns.regplot(x='Wind speed  (m/s)', y='PMV', data=new_df1,ax=axes[1])\n",
    "sns.regplot(x='Air temperature  (°C)', y='PMV', data=new_df1, ax=axes[2])\n",
    "sns.regplot(x='Mean Radiant Temperature  (°C)', y='PMV', data=new_df1, ax=axes[3])\n",
    "sns.regplot(x='Relative Humidity  (%)', y='PMV', data=new_df1, ax=axes[4])\n",
    "plt.show();"
   ]
  },
  {
   "cell_type": "code",
   "execution_count": null,
   "metadata": {},
   "outputs": [],
   "source": [
    "rcParams['figure.figsize'] = 5, 5\n",
    "from matplotlib import pyplot\n",
    "pyplot.plot(new_df1['Wind speed  (m/s)'], new_df1['PMV'])"
   ]
  },
  {
   "cell_type": "code",
   "execution_count": null,
   "metadata": {
    "scrolled": true
   },
   "outputs": [],
   "source": [
    "pyplot.plot(new_df1['Air temperature  (°C)'], new_df1['PMV'])"
   ]
  },
  {
   "cell_type": "code",
   "execution_count": null,
   "metadata": {
    "scrolled": true
   },
   "outputs": [],
   "source": [
    "pyplot.plot(new_df1['Mean Radiant Temperature  (°C)'], new_df1['PMV'])"
   ]
  },
  {
   "cell_type": "code",
   "execution_count": null,
   "metadata": {},
   "outputs": [],
   "source": [
    "pyplot.plot(new_df1['Relative Humidity  (%)'], new_df1['PMV'])"
   ]
  },
  {
   "cell_type": "code",
   "execution_count": null,
   "metadata": {},
   "outputs": [],
   "source": [
    "pyplot.plot(new_df1['Relative Humidity  (%)'], new_df1['Wind speed  (m/s)'])"
   ]
  },
  {
   "cell_type": "code",
   "execution_count": null,
   "metadata": {
    "scrolled": true
   },
   "outputs": [],
   "source": [
    "cols_plot = ['PMV','Wind speed  (m/s)','Air temperature  (°C)','Mean Radiant Temperature  (°C)','Relative Humidity  (%)']\n",
    "axies = new_df1[cols_plot].plot(grid = True, alpha=0.9, figsize=(10, 22), subplots=True)"
   ]
  },
  {
   "cell_type": "code",
   "execution_count": null,
   "metadata": {},
   "outputs": [],
   "source": [
    "sns.jointplot(x=new_df1['PMV'], y=new_df1['Air temperature  (°C)'], kind='reg')"
   ]
  },
  {
   "cell_type": "code",
   "execution_count": null,
   "metadata": {},
   "outputs": [],
   "source": [
    "p = sns.pairplot(new_df1, x_vars = 'Air temperature  (°C)',\n",
    "             y_vars = 'PMV', size = 5, aspect = 1.2, kind = 'reg')\n",
    "\n",
    "plt.suptitle('General: PMV & Air temperature', fontsize=13)\n",
    "\n",
    "p.fig.text(0.20, 0.88, 'pearsonr=0.75 p=0.0 ', style='italic', fontsize=12,\n",
    "        bbox={'facecolor': 'gray', 'alpha': 0.5, 'pad': 10})"
   ]
  },
  {
   "cell_type": "code",
   "execution_count": null,
   "metadata": {},
   "outputs": [],
   "source": [
    "p = sns.pairplot(new_df1, x_vars = 'Mean Radiant Temperature  (°C)',\n",
    "             y_vars = 'PMV', size = 5, aspect = 1.2, kind = 'reg')\n",
    "\n",
    "plt.suptitle('General: PMV & Mean Radiant Temperature', fontsize=13)\n",
    "\n",
    "p.fig.text(0.20, 0.88, 'pearsonr=0.95  p=0.0 ', style='italic', fontsize=12,\n",
    "        bbox={'facecolor': 'gray', 'alpha': 0.5, 'pad': 10})"
   ]
  },
  {
   "cell_type": "code",
   "execution_count": null,
   "metadata": {},
   "outputs": [],
   "source": [
    "p = sns.pairplot(new_df1, x_vars = 'Relative Humidity  (%)',\n",
    "             y_vars = 'PMV', size = 5, aspect = 1.2, kind = 'reg')\n",
    "\n",
    "plt.suptitle('General: PMV & Relative Humidity', fontsize=13)\n",
    "\n",
    "p.fig.text(0.64, 0.88, 'pearsonr=-0.66  p=0.0 ', style='italic', fontsize=12,\n",
    "        bbox={'facecolor': 'gray', 'alpha': 0.5, 'pad': 10})"
   ]
  }
 ],
 "metadata": {
  "kernelspec": {
   "display_name": "Python 3",
   "language": "python",
   "name": "python3"
  },
  "language_info": {
   "codemirror_mode": {
    "name": "ipython",
    "version": 3
   },
   "file_extension": ".py",
   "mimetype": "text/x-python",
   "name": "python",
   "nbconvert_exporter": "python",
   "pygments_lexer": "ipython3",
   "version": "3.7.4"
  }
 },
 "nbformat": 4,
 "nbformat_minor": 2
}
